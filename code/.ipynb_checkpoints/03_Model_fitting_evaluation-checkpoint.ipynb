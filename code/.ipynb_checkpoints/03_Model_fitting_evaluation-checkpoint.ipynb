{
 "cells": [
  {
   "cell_type": "markdown",
   "metadata": {},
   "source": [
    "#### In this section, we will\n",
    "[A. Fit linear regression](#A.Set-the-baseline:-Linear-Regression) <br>\n",
    "[B. Fit RidgeCV and Lasso CV with default parameters](#B.RidgeCV-or-LassoCV)<br>\n",
    "[C. Residual Plot](#C.Residual-Plot)<br>\n",
    "[D. Use selected model to predict test data](#D.Use-model-to-predict-test-data) <br>"
   ]
  },
  {
   "cell_type": "code",
   "execution_count": 1,
   "metadata": {},
   "outputs": [
    {
     "name": "stderr",
     "output_type": "stream",
     "text": [
      "/Users/chowmun/anaconda3/lib/python3.6/site-packages/statsmodels/compat/pandas.py:56: FutureWarning: The pandas.core.datetools module is deprecated and will be removed in a future version. Please use the pandas.tseries module instead.\n",
      "  from pandas.core import datetools\n"
     ]
    }
   ],
   "source": [
    "import numpy as np\n",
    "import pandas as pd\n",
    "import seaborn as sns\n",
    "import matplotlib.pyplot as plt\n",
    "import statsmodels.api as sm\n",
    "from pandas import Series\n",
    "from sklearn.model_selection import train_test_split, cross_val_score, cross_val_predict\n",
    "from sklearn.linear_model import LinearRegression, LassoCV, RidgeCV\n",
    "from sklearn.preprocessing import StandardScaler\n",
    "from sklearn.metrics import mean_squared_error\n",
    "\n",
    "%matplotlib inline"
   ]
  },
  {
   "cell_type": "code",
   "execution_count": 2,
   "metadata": {},
   "outputs": [],
   "source": [
    "pd.options.display.max_columns =999 #dispaly the whole grid\n",
    "\n",
    "#load and read the datasets\n",
    "X_train = pd.read_csv('../datasets/X_train.csv')\n",
    "y_train= pd.read_csv('../datasets/y_train.csv')\n",
    "X_test = pd.read_csv('../datasets/X_test.csv')\n",
    "y_test= pd.read_csv('../datasets/y_test.csv')\n",
    "\n",
    "test_scaled = pd.read_csv('../datasets/test_scaled.csv')\n",
    "test_id = pd.read_csv('../datasets/test_id.csv')\n",
    "misc = pd.read_csv('../datasets/misc_value.csv')\n",
    "\n",
    "#remove unnamed column\n",
    "list =[X_train, y_train, X_test, y_test, test_scaled, test_id, misc]\n",
    "for i in list:\n",
    "    i.drop(['Unnamed: 0'], axis=1, inplace=True)\n",
    "    "
   ]
  },
  {
   "cell_type": "code",
   "execution_count": 3,
   "metadata": {},
   "outputs": [
    {
     "data": {
      "text/html": [
       "<div>\n",
       "<style scoped>\n",
       "    .dataframe tbody tr th:only-of-type {\n",
       "        vertical-align: middle;\n",
       "    }\n",
       "\n",
       "    .dataframe tbody tr th {\n",
       "        vertical-align: top;\n",
       "    }\n",
       "\n",
       "    .dataframe thead th {\n",
       "        text-align: right;\n",
       "    }\n",
       "</style>\n",
       "<table border=\"1\" class=\"dataframe\">\n",
       "  <thead>\n",
       "    <tr style=\"text-align: right;\">\n",
       "      <th></th>\n",
       "      <th>years_of_house</th>\n",
       "      <th>reno</th>\n",
       "      <th>g_finish</th>\n",
       "      <th>pconc</th>\n",
       "      <th>s_overall_q</th>\n",
       "      <th>kitchen_q</th>\n",
       "      <th>got_fplace</th>\n",
       "      <th>g_area</th>\n",
       "      <th>exter_q</th>\n",
       "      <th>total_area</th>\n",
       "      <th>ms__C (all)</th>\n",
       "      <th>ms__FV</th>\n",
       "      <th>ms__I (all)</th>\n",
       "      <th>ms__RH</th>\n",
       "      <th>ms__RL</th>\n",
       "      <th>ms__RM</th>\n",
       "      <th>nh_1</th>\n",
       "      <th>nh_2</th>\n",
       "      <th>nh_3</th>\n",
       "      <th>nh_4</th>\n",
       "      <th>nh_5</th>\n",
       "      <th>nh_6</th>\n",
       "      <th>nh_7</th>\n",
       "      <th>nh_8</th>\n",
       "    </tr>\n",
       "  </thead>\n",
       "  <tbody>\n",
       "    <tr>\n",
       "      <th>0</th>\n",
       "      <td>1.950491</td>\n",
       "      <td>1.072901</td>\n",
       "      <td>-1.054636</td>\n",
       "      <td>-0.898245</td>\n",
       "      <td>-0.658550</td>\n",
       "      <td>-2.285434</td>\n",
       "      <td>-1.010439</td>\n",
       "      <td>0.013278</td>\n",
       "      <td>-0.687537</td>\n",
       "      <td>0.149241</td>\n",
       "      <td>-0.09935</td>\n",
       "      <td>-0.23257</td>\n",
       "      <td>-0.024723</td>\n",
       "      <td>-0.074352</td>\n",
       "      <td>-1.853730</td>\n",
       "      <td>2.317250</td>\n",
       "      <td>1.159859</td>\n",
       "      <td>-0.396094</td>\n",
       "      <td>-0.415495</td>\n",
       "      <td>-0.223679</td>\n",
       "      <td>-0.085934</td>\n",
       "      <td>-0.261797</td>\n",
       "      <td>-0.149953</td>\n",
       "      <td>-0.325701</td>\n",
       "    </tr>\n",
       "    <tr>\n",
       "      <th>1</th>\n",
       "      <td>-0.249214</td>\n",
       "      <td>-0.932052</td>\n",
       "      <td>0.948194</td>\n",
       "      <td>-0.898245</td>\n",
       "      <td>-0.658550</td>\n",
       "      <td>-0.774426</td>\n",
       "      <td>-1.010439</td>\n",
       "      <td>0.408387</td>\n",
       "      <td>-0.687537</td>\n",
       "      <td>0.445059</td>\n",
       "      <td>-0.09935</td>\n",
       "      <td>-0.23257</td>\n",
       "      <td>-0.024723</td>\n",
       "      <td>-0.074352</td>\n",
       "      <td>0.539453</td>\n",
       "      <td>-0.431546</td>\n",
       "      <td>1.159859</td>\n",
       "      <td>-0.396094</td>\n",
       "      <td>-0.415495</td>\n",
       "      <td>-0.223679</td>\n",
       "      <td>-0.085934</td>\n",
       "      <td>-0.261797</td>\n",
       "      <td>-0.149953</td>\n",
       "      <td>-0.325701</td>\n",
       "    </tr>\n",
       "    <tr>\n",
       "      <th>2</th>\n",
       "      <td>-1.201325</td>\n",
       "      <td>-0.932052</td>\n",
       "      <td>0.948194</td>\n",
       "      <td>1.113283</td>\n",
       "      <td>0.977332</td>\n",
       "      <td>0.736582</td>\n",
       "      <td>0.989669</td>\n",
       "      <td>-1.063866</td>\n",
       "      <td>1.022947</td>\n",
       "      <td>0.018924</td>\n",
       "      <td>-0.09935</td>\n",
       "      <td>-0.23257</td>\n",
       "      <td>-0.024723</td>\n",
       "      <td>-0.074352</td>\n",
       "      <td>0.539453</td>\n",
       "      <td>-0.431546</td>\n",
       "      <td>-0.862174</td>\n",
       "      <td>2.524653</td>\n",
       "      <td>-0.415495</td>\n",
       "      <td>-0.223679</td>\n",
       "      <td>-0.085934</td>\n",
       "      <td>-0.261797</td>\n",
       "      <td>-0.149953</td>\n",
       "      <td>-0.325701</td>\n",
       "    </tr>\n",
       "  </tbody>\n",
       "</table>\n",
       "</div>"
      ],
      "text/plain": [
       "   years_of_house      reno  g_finish     pconc  s_overall_q  kitchen_q  \\\n",
       "0        1.950491  1.072901 -1.054636 -0.898245    -0.658550  -2.285434   \n",
       "1       -0.249214 -0.932052  0.948194 -0.898245    -0.658550  -0.774426   \n",
       "2       -1.201325 -0.932052  0.948194  1.113283     0.977332   0.736582   \n",
       "\n",
       "   got_fplace    g_area   exter_q  total_area  ms__C (all)   ms__FV  \\\n",
       "0   -1.010439  0.013278 -0.687537    0.149241     -0.09935 -0.23257   \n",
       "1   -1.010439  0.408387 -0.687537    0.445059     -0.09935 -0.23257   \n",
       "2    0.989669 -1.063866  1.022947    0.018924     -0.09935 -0.23257   \n",
       "\n",
       "   ms__I (all)    ms__RH    ms__RL    ms__RM      nh_1      nh_2      nh_3  \\\n",
       "0    -0.024723 -0.074352 -1.853730  2.317250  1.159859 -0.396094 -0.415495   \n",
       "1    -0.024723 -0.074352  0.539453 -0.431546  1.159859 -0.396094 -0.415495   \n",
       "2    -0.024723 -0.074352  0.539453 -0.431546 -0.862174  2.524653 -0.415495   \n",
       "\n",
       "       nh_4      nh_5      nh_6      nh_7      nh_8  \n",
       "0 -0.223679 -0.085934 -0.261797 -0.149953 -0.325701  \n",
       "1 -0.223679 -0.085934 -0.261797 -0.149953 -0.325701  \n",
       "2 -0.223679 -0.085934 -0.261797 -0.149953 -0.325701  "
      ]
     },
     "execution_count": 3,
     "metadata": {},
     "output_type": "execute_result"
    }
   ],
   "source": [
    "test_scaled.head(3)"
   ]
  },
  {
   "cell_type": "markdown",
   "metadata": {},
   "source": [
    "### A.Set the baseline: Linear Regression"
   ]
  },
  {
   "cell_type": "markdown",
   "metadata": {},
   "source": [
    "The test data provided has no target. In order for us to justify the model performance, we need to split the train dataset into sub train and sub test. "
   ]
  },
  {
   "cell_type": "code",
   "execution_count": 4,
   "metadata": {},
   "outputs": [],
   "source": [
    "lr = LinearRegression()"
   ]
  },
  {
   "cell_type": "code",
   "execution_count": 5,
   "metadata": {},
   "outputs": [
    {
     "data": {
      "text/plain": [
       "LinearRegression(copy_X=True, fit_intercept=True, n_jobs=None,\n",
       "         normalize=False)"
      ]
     },
     "execution_count": 5,
     "metadata": {},
     "output_type": "execute_result"
    }
   ],
   "source": [
    "#train model using X_train and y_train\n",
    "lr.fit(X_train, y_train)"
   ]
  },
  {
   "cell_type": "markdown",
   "metadata": {},
   "source": [
    "Comparing the R^2 score for sub train and sub test datasets"
   ]
  },
  {
   "cell_type": "code",
   "execution_count": 6,
   "metadata": {},
   "outputs": [
    {
     "data": {
      "text/plain": [
       "0.8657361649236665"
      ]
     },
     "execution_count": 6,
     "metadata": {},
     "output_type": "execute_result"
    }
   ],
   "source": [
    "lt = lr.score(X_train, y_train)\n",
    "lt"
   ]
  },
  {
   "cell_type": "code",
   "execution_count": 7,
   "metadata": {},
   "outputs": [
    {
     "data": {
      "text/plain": [
       "0.849233196902859"
      ]
     },
     "execution_count": 7,
     "metadata": {},
     "output_type": "execute_result"
    }
   ],
   "source": [
    "lp = lr.score(X_test, y_test)\n",
    "lp"
   ]
  },
  {
   "cell_type": "markdown",
   "metadata": {},
   "source": [
    "The R^2 result for X_train is higer than the X_test, it could be a sign of overfitting. "
   ]
  },
  {
   "cell_type": "code",
   "execution_count": 8,
   "metadata": {},
   "outputs": [],
   "source": [
    "#in statmodel, p>0.05 mean can be removed like lasso"
   ]
  },
  {
   "cell_type": "code",
   "execution_count": 9,
   "metadata": {},
   "outputs": [],
   "source": [
    "# X = X_train\n",
    "# X = sm.add_constant(X)\n",
    "# y = y_train\n",
    "\n",
    "# model = sm.OLS(y, X)\n",
    "# model = model.fit()\n",
    "# model.summary()\n",
    "y=(lr.coef_).ravel()"
   ]
  },
  {
   "cell_type": "code",
   "execution_count": 10,
   "metadata": {},
   "outputs": [
    {
     "data": {
      "text/html": [
       "<div>\n",
       "<style scoped>\n",
       "    .dataframe tbody tr th:only-of-type {\n",
       "        vertical-align: middle;\n",
       "    }\n",
       "\n",
       "    .dataframe tbody tr th {\n",
       "        vertical-align: top;\n",
       "    }\n",
       "\n",
       "    .dataframe thead th {\n",
       "        text-align: right;\n",
       "    }\n",
       "</style>\n",
       "<table border=\"1\" class=\"dataframe\">\n",
       "  <thead>\n",
       "    <tr style=\"text-align: right;\">\n",
       "      <th></th>\n",
       "      <th>abs(coef)</th>\n",
       "      <th>coef</th>\n",
       "      <th>features</th>\n",
       "    </tr>\n",
       "  </thead>\n",
       "  <tbody>\n",
       "    <tr>\n",
       "      <th>9</th>\n",
       "      <td>32503.879827</td>\n",
       "      <td>32503.879827</td>\n",
       "      <td>total_area</td>\n",
       "    </tr>\n",
       "    <tr>\n",
       "      <th>4</th>\n",
       "      <td>13493.863719</td>\n",
       "      <td>13493.863719</td>\n",
       "      <td>s_overall_q</td>\n",
       "    </tr>\n",
       "    <tr>\n",
       "      <th>23</th>\n",
       "      <td>10556.197212</td>\n",
       "      <td>10556.197212</td>\n",
       "      <td>nh_8</td>\n",
       "    </tr>\n",
       "    <tr>\n",
       "      <th>5</th>\n",
       "      <td>9219.192624</td>\n",
       "      <td>9219.192624</td>\n",
       "      <td>kitchen_q</td>\n",
       "    </tr>\n",
       "    <tr>\n",
       "      <th>7</th>\n",
       "      <td>9113.488271</td>\n",
       "      <td>9113.488271</td>\n",
       "      <td>g_area</td>\n",
       "    </tr>\n",
       "    <tr>\n",
       "      <th>0</th>\n",
       "      <td>8570.370325</td>\n",
       "      <td>-8570.370325</td>\n",
       "      <td>years_of_house</td>\n",
       "    </tr>\n",
       "    <tr>\n",
       "      <th>8</th>\n",
       "      <td>6016.674802</td>\n",
       "      <td>6016.674802</td>\n",
       "      <td>exter_q</td>\n",
       "    </tr>\n",
       "    <tr>\n",
       "      <th>6</th>\n",
       "      <td>4637.112447</td>\n",
       "      <td>4637.112447</td>\n",
       "      <td>got_fplace</td>\n",
       "    </tr>\n",
       "    <tr>\n",
       "      <th>1</th>\n",
       "      <td>3508.680652</td>\n",
       "      <td>3508.680652</td>\n",
       "      <td>reno</td>\n",
       "    </tr>\n",
       "    <tr>\n",
       "      <th>19</th>\n",
       "      <td>3497.663839</td>\n",
       "      <td>3497.663839</td>\n",
       "      <td>nh_4</td>\n",
       "    </tr>\n",
       "    <tr>\n",
       "      <th>18</th>\n",
       "      <td>2900.309040</td>\n",
       "      <td>-2900.309040</td>\n",
       "      <td>nh_3</td>\n",
       "    </tr>\n",
       "    <tr>\n",
       "      <th>15</th>\n",
       "      <td>2380.557466</td>\n",
       "      <td>-2380.557466</td>\n",
       "      <td>ms__RM</td>\n",
       "    </tr>\n",
       "    <tr>\n",
       "      <th>22</th>\n",
       "      <td>1738.873971</td>\n",
       "      <td>1738.873971</td>\n",
       "      <td>nh_7</td>\n",
       "    </tr>\n",
       "    <tr>\n",
       "      <th>10</th>\n",
       "      <td>1413.503071</td>\n",
       "      <td>-1413.503071</td>\n",
       "      <td>ms__C (all)</td>\n",
       "    </tr>\n",
       "    <tr>\n",
       "      <th>17</th>\n",
       "      <td>1383.991985</td>\n",
       "      <td>-1383.991985</td>\n",
       "      <td>nh_2</td>\n",
       "    </tr>\n",
       "    <tr>\n",
       "      <th>21</th>\n",
       "      <td>1023.697464</td>\n",
       "      <td>1023.697464</td>\n",
       "      <td>nh_6</td>\n",
       "    </tr>\n",
       "    <tr>\n",
       "      <th>16</th>\n",
       "      <td>948.188930</td>\n",
       "      <td>-948.188930</td>\n",
       "      <td>nh_1</td>\n",
       "    </tr>\n",
       "    <tr>\n",
       "      <th>12</th>\n",
       "      <td>766.268999</td>\n",
       "      <td>766.268999</td>\n",
       "      <td>ms__I (all)</td>\n",
       "    </tr>\n",
       "    <tr>\n",
       "      <th>3</th>\n",
       "      <td>704.680092</td>\n",
       "      <td>-704.680092</td>\n",
       "      <td>pconc</td>\n",
       "    </tr>\n",
       "    <tr>\n",
       "      <th>2</th>\n",
       "      <td>587.103115</td>\n",
       "      <td>587.103115</td>\n",
       "      <td>g_finish</td>\n",
       "    </tr>\n",
       "    <tr>\n",
       "      <th>11</th>\n",
       "      <td>575.552887</td>\n",
       "      <td>-575.552887</td>\n",
       "      <td>ms__FV</td>\n",
       "    </tr>\n",
       "    <tr>\n",
       "      <th>20</th>\n",
       "      <td>292.385662</td>\n",
       "      <td>292.385662</td>\n",
       "      <td>nh_5</td>\n",
       "    </tr>\n",
       "    <tr>\n",
       "      <th>14</th>\n",
       "      <td>273.860430</td>\n",
       "      <td>273.860430</td>\n",
       "      <td>ms__RL</td>\n",
       "    </tr>\n",
       "    <tr>\n",
       "      <th>13</th>\n",
       "      <td>254.583693</td>\n",
       "      <td>-254.583693</td>\n",
       "      <td>ms__RH</td>\n",
       "    </tr>\n",
       "  </tbody>\n",
       "</table>\n",
       "</div>"
      ],
      "text/plain": [
       "       abs(coef)          coef        features\n",
       "9   32503.879827  32503.879827      total_area\n",
       "4   13493.863719  13493.863719     s_overall_q\n",
       "23  10556.197212  10556.197212            nh_8\n",
       "5    9219.192624   9219.192624       kitchen_q\n",
       "7    9113.488271   9113.488271          g_area\n",
       "0    8570.370325  -8570.370325  years_of_house\n",
       "8    6016.674802   6016.674802         exter_q\n",
       "6    4637.112447   4637.112447      got_fplace\n",
       "1    3508.680652   3508.680652            reno\n",
       "19   3497.663839   3497.663839            nh_4\n",
       "18   2900.309040  -2900.309040            nh_3\n",
       "15   2380.557466  -2380.557466          ms__RM\n",
       "22   1738.873971   1738.873971            nh_7\n",
       "10   1413.503071  -1413.503071     ms__C (all)\n",
       "17   1383.991985  -1383.991985            nh_2\n",
       "21   1023.697464   1023.697464            nh_6\n",
       "16    948.188930   -948.188930            nh_1\n",
       "12    766.268999    766.268999     ms__I (all)\n",
       "3     704.680092   -704.680092           pconc\n",
       "2     587.103115    587.103115        g_finish\n",
       "11    575.552887   -575.552887          ms__FV\n",
       "20    292.385662    292.385662            nh_5\n",
       "14    273.860430    273.860430          ms__RL\n",
       "13    254.583693   -254.583693          ms__RH"
      ]
     },
     "execution_count": 10,
     "metadata": {},
     "output_type": "execute_result"
    }
   ],
   "source": [
    "lr_coefs = pd.DataFrame({'features': X_train.columns,\n",
    "                         'coef': y,\n",
    "                         'abs(coef)': np.abs(y)})\n",
    "lr_coefs.sort_values('abs(coef)', inplace=True, ascending=False)\n",
    "lr_coefs"
   ]
  },
  {
   "cell_type": "code",
   "execution_count": 11,
   "metadata": {},
   "outputs": [
    {
     "data": {
      "text/plain": [
       "(array([ 0,  1,  2,  3,  4,  5,  6,  7,  8,  9, 10, 11, 12, 13, 14, 15, 16,\n",
       "        17, 18, 19, 20, 21, 22, 23]), <a list of 24 Text xticklabel objects>)"
      ]
     },
     "execution_count": 11,
     "metadata": {},
     "output_type": "execute_result"
    },
    {
     "data": {
      "image/png": "[encoded data removed]",
      "text/plain": [
       "<matplotlib.figure.Figure at 0x1c1d3619e8>"
      ]
     },
     "metadata": {},
     "output_type": "display_data"
    }
   ],
   "source": [
    "pd.Series(y, index=X_train.columns).plot.bar(figsize=(15, 7))\n",
    "plt.xticks(rotation=45)"
   ]
  },
  {
   "cell_type": "markdown",
   "metadata": {},
   "source": [
    "We can see that some features have a relative small coefficient  compare to total_area. It might be a sign that the features can be removed from the model to reduce its complexity. <br>\n",
    "'total_area' has a relatively high coefficient compared to the rest. Well, logically prices of houses are heavily depend on the total area of a house. "
   ]
  },
  {
   "cell_type": "markdown",
   "metadata": {},
   "source": [
    "### B.RidgeCV or LassoCV\n",
    "To increase the model performance, we will try using RidgeCV and LassoCV. "
   ]
  },
  {
   "cell_type": "markdown",
   "metadata": {},
   "source": [
    "#### B.i. RidgeCV"
   ]
  },
  {
   "cell_type": "code",
   "execution_count": 12,
   "metadata": {},
   "outputs": [],
   "source": [
    "#create a list of lambda to fit in the RidgeCV\n",
    "ridge_alphas = np.logspace(0, 5, 200)"
   ]
  },
  {
   "cell_type": "code",
   "execution_count": 13,
   "metadata": {},
   "outputs": [
    {
     "data": {
      "text/plain": [
       "RidgeCV(alphas=array([1.00000e+00, 1.05956e+00, ..., 9.43788e+04, 1.00000e+05]),\n",
       "    cv=10, fit_intercept=True, gcv_mode=None, normalize=False,\n",
       "    scoring=None, store_cv_values=False)"
      ]
     },
     "execution_count": 13,
     "metadata": {},
     "output_type": "execute_result"
    }
   ],
   "source": [
    "#train the model\n",
    "ridge = RidgeCV(alphas=ridge_alphas, cv=10)\n",
    "ridge.fit(X_train, y_train)"
   ]
  },
  {
   "cell_type": "code",
   "execution_count": 14,
   "metadata": {},
   "outputs": [
    {
     "data": {
      "text/plain": [
       "0.8655483969408564"
      ]
     },
     "execution_count": 14,
     "metadata": {},
     "output_type": "execute_result"
    }
   ],
   "source": [
    "rt = ridge.score(X_train, y_train)\n",
    "rt"
   ]
  },
  {
   "cell_type": "code",
   "execution_count": 15,
   "metadata": {},
   "outputs": [
    {
     "data": {
      "text/plain": [
       "0.8499912543125945"
      ]
     },
     "execution_count": 15,
     "metadata": {},
     "output_type": "execute_result"
    }
   ],
   "source": [
    "rp = ridge.score(X_test, y_test)\n",
    "rp"
   ]
  },
  {
   "cell_type": "markdown",
   "metadata": {},
   "source": [
    "There is not much difference in the model performance when using linearRegression or RidgeCV. We will try on LassoCV instead."
   ]
  },
  {
   "cell_type": "markdown",
   "metadata": {},
   "source": [
    "#### B.ii.LassoCV"
   ]
  },
  {
   "cell_type": "code",
   "execution_count": 30,
   "metadata": {},
   "outputs": [],
   "source": [
    "lasso = LassoCV(n_alphas=500, cv=10)"
   ]
  },
  {
   "cell_type": "code",
   "execution_count": 31,
   "metadata": {},
   "outputs": [
    {
     "name": "stderr",
     "output_type": "stream",
     "text": [
      "/Users/chowmun/anaconda3/lib/python3.6/site-packages/sklearn/linear_model/coordinate_descent.py:1109: DataConversionWarning: A column-vector y was passed when a 1d array was expected. Please change the shape of y to (n_samples, ), for example using ravel().\n",
      "  y = column_or_1d(y, warn=True)\n"
     ]
    },
    {
     "data": {
      "text/plain": [
       "LassoCV(alphas=None, copy_X=True, cv=10, eps=0.001, fit_intercept=True,\n",
       "    max_iter=1000, n_alphas=500, n_jobs=None, normalize=False,\n",
       "    positive=False, precompute='auto', random_state=None,\n",
       "    selection='cyclic', tol=0.0001, verbose=False)"
      ]
     },
     "execution_count": 31,
     "metadata": {},
     "output_type": "execute_result"
    }
   ],
   "source": [
    "lasso.fit(X_train, y_train)"
   ]
  },
  {
   "cell_type": "code",
   "execution_count": 32,
   "metadata": {},
   "outputs": [
    {
     "data": {
      "text/plain": [
       "0.8655562692804677"
      ]
     },
     "execution_count": 32,
     "metadata": {},
     "output_type": "execute_result"
    }
   ],
   "source": [
    "#find the LassoCV performance:\n",
    "lat = lasso.score(X_train, y_train)\n",
    "lat"
   ]
  },
  {
   "cell_type": "code",
   "execution_count": 33,
   "metadata": {},
   "outputs": [
    {
     "data": {
      "text/plain": [
       "0.8500429115917775"
      ]
     },
     "execution_count": 33,
     "metadata": {},
     "output_type": "execute_result"
    }
   ],
   "source": [
    "lap = lasso.score(X_test, y_test)\n",
    "lap"
   ]
  },
  {
   "cell_type": "code",
   "execution_count": 34,
   "metadata": {},
   "outputs": [
    {
     "data": {
      "text/html": [
       "<div>\n",
       "<style scoped>\n",
       "    .dataframe tbody tr th:only-of-type {\n",
       "        vertical-align: middle;\n",
       "    }\n",
       "\n",
       "    .dataframe tbody tr th {\n",
       "        vertical-align: top;\n",
       "    }\n",
       "\n",
       "    .dataframe thead th {\n",
       "        text-align: right;\n",
       "    }\n",
       "</style>\n",
       "<table border=\"1\" class=\"dataframe\">\n",
       "  <thead>\n",
       "    <tr style=\"text-align: right;\">\n",
       "      <th></th>\n",
       "      <th>alg</th>\n",
       "      <th>test_rscore</th>\n",
       "      <th>train_rscore</th>\n",
       "    </tr>\n",
       "  </thead>\n",
       "  <tbody>\n",
       "    <tr>\n",
       "      <th>0</th>\n",
       "      <td>LinearRegression</td>\n",
       "      <td>0.849233</td>\n",
       "      <td>0.865736</td>\n",
       "    </tr>\n",
       "    <tr>\n",
       "      <th>1</th>\n",
       "      <td>RidgeCV</td>\n",
       "      <td>0.849991</td>\n",
       "      <td>0.865548</td>\n",
       "    </tr>\n",
       "    <tr>\n",
       "      <th>2</th>\n",
       "      <td>LassoCV</td>\n",
       "      <td>0.850043</td>\n",
       "      <td>0.865556</td>\n",
       "    </tr>\n",
       "  </tbody>\n",
       "</table>\n",
       "</div>"
      ],
      "text/plain": [
       "                alg  test_rscore  train_rscore\n",
       "0  LinearRegression     0.849233      0.865736\n",
       "1           RidgeCV     0.849991      0.865548\n",
       "2           LassoCV     0.850043      0.865556"
      ]
     },
     "execution_count": 34,
     "metadata": {},
     "output_type": "execute_result"
    }
   ],
   "source": [
    "#build a table for comparison\n",
    "pd.DataFrame({'alg':['LinearRegression','RidgeCV','LassoCV'],\n",
    "              'train_rscore': [lt,rt,lat],\n",
    "              'test_rscore':[lp,rp,lap]})"
   ]
  },
  {
   "cell_type": "markdown",
   "metadata": {},
   "source": [
    "LinearRegression, RidgeCV and LassoCV are comparable in thier R^2 score. I decide to choose LassoCV as it helps to zero out those features it deems unimportant. <br>\n",
    "We will progress by getting the coefficient for each features.<br>\n",
    "To make the result sounds more reality, we converted it into root mean square error(rmse)."
   ]
  },
  {
   "cell_type": "code",
   "execution_count": 35,
   "metadata": {},
   "outputs": [
    {
     "name": "stdout",
     "output_type": "stream",
     "text": [
      "30939.76322097777\n"
     ]
    }
   ],
   "source": [
    "pred = lasso.predict(X_test)\n",
    "mean = mean_squared_error(y_test, pred) \n",
    "rmse = np.sqrt(mean_squared_error(y_test,pred))\n",
    "print(rmse)"
   ]
  },
  {
   "cell_type": "markdown",
   "metadata": {},
   "source": [
    "The predicted result is $31K diverted from the real sale price.<br>\n",
    "Then we construct a table for the features and coefficients get from the model."
   ]
  },
  {
   "cell_type": "code",
   "execution_count": 36,
   "metadata": {},
   "outputs": [
    {
     "data": {
      "text/html": [
       "<div>\n",
       "<style scoped>\n",
       "    .dataframe tbody tr th:only-of-type {\n",
       "        vertical-align: middle;\n",
       "    }\n",
       "\n",
       "    .dataframe tbody tr th {\n",
       "        vertical-align: top;\n",
       "    }\n",
       "\n",
       "    .dataframe thead th {\n",
       "        text-align: right;\n",
       "    }\n",
       "</style>\n",
       "<table border=\"1\" class=\"dataframe\">\n",
       "  <thead>\n",
       "    <tr style=\"text-align: right;\">\n",
       "      <th></th>\n",
       "      <th>abs(coef)</th>\n",
       "      <th>coefs</th>\n",
       "      <th>features</th>\n",
       "    </tr>\n",
       "  </thead>\n",
       "  <tbody>\n",
       "    <tr>\n",
       "      <th>9</th>\n",
       "      <td>32474.110162</td>\n",
       "      <td>32474.110162</td>\n",
       "      <td>total_area</td>\n",
       "    </tr>\n",
       "    <tr>\n",
       "      <th>4</th>\n",
       "      <td>13442.782309</td>\n",
       "      <td>13442.782309</td>\n",
       "      <td>s_overall_q</td>\n",
       "    </tr>\n",
       "    <tr>\n",
       "      <th>23</th>\n",
       "      <td>10984.473854</td>\n",
       "      <td>10984.473854</td>\n",
       "      <td>nh_8</td>\n",
       "    </tr>\n",
       "    <tr>\n",
       "      <th>5</th>\n",
       "      <td>9244.997940</td>\n",
       "      <td>9244.997940</td>\n",
       "      <td>kitchen_q</td>\n",
       "    </tr>\n",
       "    <tr>\n",
       "      <th>7</th>\n",
       "      <td>9043.184452</td>\n",
       "      <td>9043.184452</td>\n",
       "      <td>g_area</td>\n",
       "    </tr>\n",
       "    <tr>\n",
       "      <th>0</th>\n",
       "      <td>7910.754273</td>\n",
       "      <td>-7910.754273</td>\n",
       "      <td>years_of_house</td>\n",
       "    </tr>\n",
       "    <tr>\n",
       "      <th>8</th>\n",
       "      <td>5959.446846</td>\n",
       "      <td>5959.446846</td>\n",
       "      <td>exter_q</td>\n",
       "    </tr>\n",
       "    <tr>\n",
       "      <th>6</th>\n",
       "      <td>4680.484008</td>\n",
       "      <td>4680.484008</td>\n",
       "      <td>got_fplace</td>\n",
       "    </tr>\n",
       "    <tr>\n",
       "      <th>19</th>\n",
       "      <td>3714.705768</td>\n",
       "      <td>3714.705768</td>\n",
       "      <td>nh_4</td>\n",
       "    </tr>\n",
       "    <tr>\n",
       "      <th>1</th>\n",
       "      <td>2970.791296</td>\n",
       "      <td>2970.791296</td>\n",
       "      <td>reno</td>\n",
       "    </tr>\n",
       "    <tr>\n",
       "      <th>18</th>\n",
       "      <td>1970.168927</td>\n",
       "      <td>-1970.168927</td>\n",
       "      <td>nh_3</td>\n",
       "    </tr>\n",
       "    <tr>\n",
       "      <th>15</th>\n",
       "      <td>1963.648805</td>\n",
       "      <td>-1963.648805</td>\n",
       "      <td>ms__RM</td>\n",
       "    </tr>\n",
       "    <tr>\n",
       "      <th>22</th>\n",
       "      <td>1858.678926</td>\n",
       "      <td>1858.678926</td>\n",
       "      <td>nh_7</td>\n",
       "    </tr>\n",
       "    <tr>\n",
       "      <th>10</th>\n",
       "      <td>990.921550</td>\n",
       "      <td>-990.921550</td>\n",
       "      <td>ms__C (all)</td>\n",
       "    </tr>\n",
       "    <tr>\n",
       "      <th>21</th>\n",
       "      <td>812.176544</td>\n",
       "      <td>812.176544</td>\n",
       "      <td>nh_6</td>\n",
       "    </tr>\n",
       "    <tr>\n",
       "      <th>12</th>\n",
       "      <td>569.859679</td>\n",
       "      <td>569.859679</td>\n",
       "      <td>ms__I (all)</td>\n",
       "    </tr>\n",
       "    <tr>\n",
       "      <th>17</th>\n",
       "      <td>529.931898</td>\n",
       "      <td>-529.931898</td>\n",
       "      <td>nh_2</td>\n",
       "    </tr>\n",
       "    <tr>\n",
       "      <th>2</th>\n",
       "      <td>455.517893</td>\n",
       "      <td>455.517893</td>\n",
       "      <td>g_finish</td>\n",
       "    </tr>\n",
       "    <tr>\n",
       "      <th>14</th>\n",
       "      <td>344.980564</td>\n",
       "      <td>344.980564</td>\n",
       "      <td>ms__RL</td>\n",
       "    </tr>\n",
       "    <tr>\n",
       "      <th>20</th>\n",
       "      <td>247.534776</td>\n",
       "      <td>247.534776</td>\n",
       "      <td>nh_5</td>\n",
       "    </tr>\n",
       "    <tr>\n",
       "      <th>13</th>\n",
       "      <td>12.688481</td>\n",
       "      <td>-12.688481</td>\n",
       "      <td>ms__RH</td>\n",
       "    </tr>\n",
       "    <tr>\n",
       "      <th>11</th>\n",
       "      <td>0.000000</td>\n",
       "      <td>0.000000</td>\n",
       "      <td>ms__FV</td>\n",
       "    </tr>\n",
       "    <tr>\n",
       "      <th>3</th>\n",
       "      <td>0.000000</td>\n",
       "      <td>-0.000000</td>\n",
       "      <td>pconc</td>\n",
       "    </tr>\n",
       "    <tr>\n",
       "      <th>16</th>\n",
       "      <td>0.000000</td>\n",
       "      <td>-0.000000</td>\n",
       "      <td>nh_1</td>\n",
       "    </tr>\n",
       "  </tbody>\n",
       "</table>\n",
       "</div>"
      ],
      "text/plain": [
       "       abs(coef)         coefs        features\n",
       "9   32474.110162  32474.110162      total_area\n",
       "4   13442.782309  13442.782309     s_overall_q\n",
       "23  10984.473854  10984.473854            nh_8\n",
       "5    9244.997940   9244.997940       kitchen_q\n",
       "7    9043.184452   9043.184452          g_area\n",
       "0    7910.754273  -7910.754273  years_of_house\n",
       "8    5959.446846   5959.446846         exter_q\n",
       "6    4680.484008   4680.484008      got_fplace\n",
       "19   3714.705768   3714.705768            nh_4\n",
       "1    2970.791296   2970.791296            reno\n",
       "18   1970.168927  -1970.168927            nh_3\n",
       "15   1963.648805  -1963.648805          ms__RM\n",
       "22   1858.678926   1858.678926            nh_7\n",
       "10    990.921550   -990.921550     ms__C (all)\n",
       "21    812.176544    812.176544            nh_6\n",
       "12    569.859679    569.859679     ms__I (all)\n",
       "17    529.931898   -529.931898            nh_2\n",
       "2     455.517893    455.517893        g_finish\n",
       "14    344.980564    344.980564          ms__RL\n",
       "20    247.534776    247.534776            nh_5\n",
       "13     12.688481    -12.688481          ms__RH\n",
       "11      0.000000      0.000000          ms__FV\n",
       "3       0.000000     -0.000000           pconc\n",
       "16      0.000000     -0.000000            nh_1"
      ]
     },
     "execution_count": 36,
     "metadata": {},
     "output_type": "execute_result"
    }
   ],
   "source": [
    "lasso_coef = pd.DataFrame({'features': X_train.columns,\n",
    "                           'coefs': lasso.coef_,\n",
    "                           'abs(coef)': np.abs(lasso.coef_)})\n",
    "lasso_coef.sort_values('abs(coef)', inplace=True, ascending=False)\n",
    "lasso_coef"
   ]
  },
  {
   "cell_type": "code",
   "execution_count": 37,
   "metadata": {},
   "outputs": [
    {
     "data": {
      "text/plain": [
       "(array([ 0,  1,  2,  3,  4,  5,  6,  7,  8,  9, 10, 11, 12, 13, 14, 15, 16,\n",
       "        17, 18, 19, 20, 21, 22, 23]), <a list of 24 Text xticklabel objects>)"
      ]
     },
     "execution_count": 37,
     "metadata": {},
     "output_type": "execute_result"
    },
    {
     "data": {
      "image/png": "[encoded data removed]",
      "text/plain": [
       "<matplotlib.figure.Figure at 0x109e816d8>"
      ]
     },
     "metadata": {},
     "output_type": "display_data"
    }
   ],
   "source": [
    "#then we visualised the coef using bargraph\n",
    "pd.Series(lasso.coef_, index=X_train.columns).plot.bar(figsize=(15, 7))\n",
    "plt.xticks(rotation=45)"
   ]
  },
  {
   "cell_type": "markdown",
   "metadata": {},
   "source": [
    "Pretty much similar with the linear regression graph but with a few features have been zero out.<br>\n",
    "From the plot, total house area, overall house quality and certain neighborhood are the important features contribute to the increase in house price. <br>\n",
    "While, the years of house is definitely reduce the sale price. <br>\n",
    "To further validate the model, we will plot a residual plot."
   ]
  },
  {
   "cell_type": "markdown",
   "metadata": {},
   "source": [
    "### C.Residual Plot"
   ]
  },
  {
   "cell_type": "code",
   "execution_count": 38,
   "metadata": {},
   "outputs": [],
   "source": [
    "#form a dataframe for prediction of X_train and X_test\n",
    "pred_train = pd.DataFrame(lasso.predict(X_train), columns=['pred_train'])\n",
    "pred_test = pd.DataFrame(lasso.predict(X_test), columns=['pred_test'])"
   ]
  },
  {
   "cell_type": "code",
   "execution_count": 39,
   "metadata": {},
   "outputs": [],
   "source": [
    "#in order to join with predicted price with sale price we need to reset the index to zero, so they will have a common index to join\n",
    "#after reset_index, the original index will become a 'index' column, thus will need to drop it \n",
    "y_train = y_train.reset_index().drop('index', axis=1)\n",
    "y_test = y_test.reset_index().drop('index', axis=1)"
   ]
  },
  {
   "cell_type": "code",
   "execution_count": 40,
   "metadata": {},
   "outputs": [
    {
     "data": {
      "text/html": [
       "<div>\n",
       "<style scoped>\n",
       "    .dataframe tbody tr th:only-of-type {\n",
       "        vertical-align: middle;\n",
       "    }\n",
       "\n",
       "    .dataframe tbody tr th {\n",
       "        vertical-align: top;\n",
       "    }\n",
       "\n",
       "    .dataframe thead th {\n",
       "        text-align: right;\n",
       "    }\n",
       "</style>\n",
       "<table border=\"1\" class=\"dataframe\">\n",
       "  <thead>\n",
       "    <tr style=\"text-align: right;\">\n",
       "      <th></th>\n",
       "      <th>pred_train</th>\n",
       "      <th>SalePrice</th>\n",
       "      <th>residual_train</th>\n",
       "    </tr>\n",
       "  </thead>\n",
       "  <tbody>\n",
       "    <tr>\n",
       "      <th>count</th>\n",
       "      <td>1637.000000</td>\n",
       "      <td>1637.000000</td>\n",
       "      <td>1.637000e+03</td>\n",
       "    </tr>\n",
       "    <tr>\n",
       "      <th>mean</th>\n",
       "      <td>180471.200977</td>\n",
       "      <td>180471.200977</td>\n",
       "      <td>-3.431301e-12</td>\n",
       "    </tr>\n",
       "    <tr>\n",
       "      <th>std</th>\n",
       "      <td>73225.157602</td>\n",
       "      <td>79085.663818</td>\n",
       "      <td>2.899800e+04</td>\n",
       "    </tr>\n",
       "    <tr>\n",
       "      <th>min</th>\n",
       "      <td>-10304.225277</td>\n",
       "      <td>12789.000000</td>\n",
       "      <td>-1.582743e+05</td>\n",
       "    </tr>\n",
       "    <tr>\n",
       "      <th>25%</th>\n",
       "      <td>126171.570651</td>\n",
       "      <td>129500.000000</td>\n",
       "      <td>-1.558184e+04</td>\n",
       "    </tr>\n",
       "    <tr>\n",
       "      <th>50%</th>\n",
       "      <td>165131.473637</td>\n",
       "      <td>161000.000000</td>\n",
       "      <td>4.505187e+02</td>\n",
       "    </tr>\n",
       "    <tr>\n",
       "      <th>75%</th>\n",
       "      <td>224236.684028</td>\n",
       "      <td>213500.000000</td>\n",
       "      <td>1.436426e+04</td>\n",
       "    </tr>\n",
       "    <tr>\n",
       "      <th>max</th>\n",
       "      <td>450906.541850</td>\n",
       "      <td>584500.000000</td>\n",
       "      <td>1.695576e+05</td>\n",
       "    </tr>\n",
       "  </tbody>\n",
       "</table>\n",
       "</div>"
      ],
      "text/plain": [
       "          pred_train      SalePrice  residual_train\n",
       "count    1637.000000    1637.000000    1.637000e+03\n",
       "mean   180471.200977  180471.200977   -3.431301e-12\n",
       "std     73225.157602   79085.663818    2.899800e+04\n",
       "min    -10304.225277   12789.000000   -1.582743e+05\n",
       "25%    126171.570651  129500.000000   -1.558184e+04\n",
       "50%    165131.473637  161000.000000    4.505187e+02\n",
       "75%    224236.684028  213500.000000    1.436426e+04\n",
       "max    450906.541850  584500.000000    1.695576e+05"
      ]
     },
     "execution_count": 40,
     "metadata": {},
     "output_type": "execute_result"
    }
   ],
   "source": [
    "#join both 'SalePrice' and 'Predcit' columns then form a 'residual' using both the columns mentioned\n",
    "df_train = pred_train.join(y_train)\n",
    "df_train['residual_train']=df_train['SalePrice']-df_train['pred_train']\n",
    "df_train.describe()"
   ]
  },
  {
   "cell_type": "code",
   "execution_count": 41,
   "metadata": {},
   "outputs": [
    {
     "data": {
      "text/html": [
       "<div>\n",
       "<style scoped>\n",
       "    .dataframe tbody tr th:only-of-type {\n",
       "        vertical-align: middle;\n",
       "    }\n",
       "\n",
       "    .dataframe tbody tr th {\n",
       "        vertical-align: top;\n",
       "    }\n",
       "\n",
       "    .dataframe thead th {\n",
       "        text-align: right;\n",
       "    }\n",
       "</style>\n",
       "<table border=\"1\" class=\"dataframe\">\n",
       "  <thead>\n",
       "    <tr style=\"text-align: right;\">\n",
       "      <th></th>\n",
       "      <th>pred_test</th>\n",
       "      <th>SalePrice</th>\n",
       "      <th>residual_test</th>\n",
       "    </tr>\n",
       "  </thead>\n",
       "  <tbody>\n",
       "    <tr>\n",
       "      <th>count</th>\n",
       "      <td>410.000000</td>\n",
       "      <td>410.000000</td>\n",
       "      <td>410.000000</td>\n",
       "    </tr>\n",
       "    <tr>\n",
       "      <th>mean</th>\n",
       "      <td>185583.466531</td>\n",
       "      <td>184760.665854</td>\n",
       "      <td>-822.800677</td>\n",
       "    </tr>\n",
       "    <tr>\n",
       "      <th>std</th>\n",
       "      <td>76785.921677</td>\n",
       "      <td>79995.169024</td>\n",
       "      <td>30966.607868</td>\n",
       "    </tr>\n",
       "    <tr>\n",
       "      <th>min</th>\n",
       "      <td>30045.649513</td>\n",
       "      <td>66500.000000</td>\n",
       "      <td>-140036.127148</td>\n",
       "    </tr>\n",
       "    <tr>\n",
       "      <th>25%</th>\n",
       "      <td>131662.708225</td>\n",
       "      <td>130000.000000</td>\n",
       "      <td>-17037.078688</td>\n",
       "    </tr>\n",
       "    <tr>\n",
       "      <th>50%</th>\n",
       "      <td>169661.123700</td>\n",
       "      <td>164750.000000</td>\n",
       "      <td>729.333928</td>\n",
       "    </tr>\n",
       "    <tr>\n",
       "      <th>75%</th>\n",
       "      <td>224027.014944</td>\n",
       "      <td>214675.000000</td>\n",
       "      <td>15110.450520</td>\n",
       "    </tr>\n",
       "    <tr>\n",
       "      <th>max</th>\n",
       "      <td>432935.588458</td>\n",
       "      <td>611657.000000</td>\n",
       "      <td>200948.781185</td>\n",
       "    </tr>\n",
       "  </tbody>\n",
       "</table>\n",
       "</div>"
      ],
      "text/plain": [
       "           pred_test      SalePrice  residual_test\n",
       "count     410.000000     410.000000     410.000000\n",
       "mean   185583.466531  184760.665854    -822.800677\n",
       "std     76785.921677   79995.169024   30966.607868\n",
       "min     30045.649513   66500.000000 -140036.127148\n",
       "25%    131662.708225  130000.000000  -17037.078688\n",
       "50%    169661.123700  164750.000000     729.333928\n",
       "75%    224027.014944  214675.000000   15110.450520\n",
       "max    432935.588458  611657.000000  200948.781185"
      ]
     },
     "execution_count": 41,
     "metadata": {},
     "output_type": "execute_result"
    }
   ],
   "source": [
    "#carry out the same operation of test data\n",
    "df_test = pred_test.join(y_test)\n",
    "df_test['residual_test']=df_test['SalePrice']-df_test['pred_test']\n",
    "df_test.describe()"
   ]
  },
  {
   "cell_type": "code",
   "execution_count": 42,
   "metadata": {},
   "outputs": [
    {
     "data": {
      "text/plain": [
       "<matplotlib.lines.Line2D at 0x1c1dd46e48>"
      ]
     },
     "execution_count": 42,
     "metadata": {},
     "output_type": "execute_result"
    },
    {
     "data": {
      "image/png": "[encoded data removed]",
      "text/plain": [
       "<matplotlib.figure.Figure at 0x1c1e15a390>"
      ]
     },
     "metadata": {},
     "output_type": "display_data"
    }
   ],
   "source": [
    "fig, [ax1, ax2] = plt.subplots(1,2, figsize=(15,7))\n",
    "fig.suptitle('Residual Plot')\n",
    "sns.regplot('pred_train', 'residual_train', data=df_train, fit_reg=False, scatter_kws={'marker':'o','alpha':0.7,'s':9}, ax=ax1)\n",
    "ax1.axhline(y=0, color='red', linestyle='dashed')\n",
    "sns.regplot('pred_test', 'residual_test', data=df_test, fit_reg=False, scatter_kws={'marker':'o','alpha':0.7,'s':9}, ax=ax2)\n",
    "ax2.axhline(y=0, color='red', linestyle='dashed')"
   ]
  },
  {
   "cell_type": "markdown",
   "metadata": {},
   "source": [
    "Both the residual plots for train and test data are pretty symmetrically distributed.<br>\n",
    "Most of the points are cluster around zero, low error in prediction.<br>\n",
    "The plot for test is a bit diverted from clustering around central, it could be due to low number of samples.<br>\n",
    "There are a few outliers for both plots but overall the residuals appear to behave randomly, it suggests that the model fits the data well."
   ]
  },
  {
   "cell_type": "code",
   "execution_count": 43,
   "metadata": {},
   "outputs": [
    {
     "data": {
      "text/plain": [
       "<matplotlib.lines.Line2D at 0x1c1e2dce48>"
      ]
     },
     "execution_count": 43,
     "metadata": {},
     "output_type": "execute_result"
    },
    {
     "data": {
      "image/png": "[encoded data removed]",
      "text/plain": [
       "<matplotlib.figure.Figure at 0x1c1e15a908>"
      ]
     },
     "metadata": {},
     "output_type": "display_data"
    }
   ],
   "source": [
    "fig, [ax1, ax2] = plt.subplots(1,2, figsize=(15, 6))\n",
    "fig.suptitle('Distribution Plot of Sale Price Residuals')\n",
    "sns.distplot(df_train['residual_train'], bins=20, kde=False, ax=ax1)\n",
    "ax1.axvline(x=0, color='red', linestyle='dashed')\n",
    "sns.distplot(df_test['residual_test'], bins=20, kde=False, ax=ax2)\n",
    "ax2.axvline(x=0, color='red', linestyle='dashed')"
   ]
  },
  {
   "cell_type": "markdown",
   "metadata": {},
   "source": [
    "We could notice that the error follow  a normal distribution, this proves that the model choosen fit the data well."
   ]
  },
  {
   "cell_type": "markdown",
   "metadata": {},
   "source": [
    "### D.Use selected model to predict test data "
   ]
  },
  {
   "cell_type": "code",
   "execution_count": 44,
   "metadata": {},
   "outputs": [],
   "source": [
    "#use the seleceted model to predict the test_scaled data and store in preds"
   ]
  },
  {
   "cell_type": "code",
   "execution_count": 45,
   "metadata": {},
   "outputs": [],
   "source": [
    "preds = lasso.predict(test_scaled)\n",
    "preds2 = preds - misc['Misc Val']"
   ]
  },
  {
   "cell_type": "code",
   "execution_count": 46,
   "metadata": {},
   "outputs": [],
   "source": [
    "#creata a dataframe to store the id and sale price, then save it as csv"
   ]
  },
  {
   "cell_type": "code",
   "execution_count": 47,
   "metadata": {},
   "outputs": [],
   "source": [
    "solution = pd.DataFrame({'Id':test_id['Id'], 'SalePrice':preds})\n",
    "solution.set_index('Id', inplace=True)\n",
    "solution.to_csv('../datasets/sub_reg.csv')"
   ]
  },
  {
   "cell_type": "code",
   "execution_count": 48,
   "metadata": {},
   "outputs": [],
   "source": [
    "solution2 = pd.DataFrame({'Id':test_id['Id'], 'SalePrice':preds2})\n",
    "solution2.set_index('Id', inplace=True)\n",
    "solution2.to_csv('../datasets/sub_reg2.csv')"
   ]
  },
  {
   "cell_type": "code",
   "execution_count": null,
   "metadata": {},
   "outputs": [],
   "source": []
  }
 ],
 "metadata": {
  "kernelspec": {
   "display_name": "Python 3",
   "language": "python",
   "name": "python3"
  },
  "language_info": {
   "codemirror_mode": {
    "name": "ipython",
    "version": 3
   },
   "file_extension": ".py",
   "mimetype": "text/x-python",
   "name": "python",
   "nbconvert_exporter": "python",
   "pygments_lexer": "ipython3",
   "version": "3.6.4"
  }
 },
 "nbformat": 4,
 "nbformat_minor": 2
}
